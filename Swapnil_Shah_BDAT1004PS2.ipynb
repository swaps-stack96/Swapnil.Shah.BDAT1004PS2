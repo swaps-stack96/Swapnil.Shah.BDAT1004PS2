{
 "cells": [
  {
   "cell_type": "markdown",
   "id": "54fbc8c3",
   "metadata": {},
   "source": [
    "# Swapnil.Shah.BDAT1004PS2 - 200476773"
   ]
  },
  {
   "cell_type": "markdown",
   "id": "eb9a98df",
   "metadata": {},
   "source": [
    "## Question 1\n"
   ]
  },
  {
   "cell_type": "markdown",
   "id": "5b116bae",
   "metadata": {},
   "source": [
    "### What value is displayed when the last expression (a) is evaluated? Explain your answer by indicating what happens in every executed statement. Python module:"
   ]
  },
  {
   "cell_type": "code",
   "execution_count": 29,
   "id": "90befd69",
   "metadata": {},
   "outputs": [
    {
     "data": {
      "text/plain": [
       "6"
      ]
     },
     "execution_count": 29,
     "metadata": {},
     "output_type": "execute_result"
    }
   ],
   "source": [
    "a = 0\n",
    "def b():\n",
    " global a    # all refernces to a in b() are related to global a\n",
    " a = c(a)    # global a is changed whenever c(a) is being executed and value is being assigned to a.\n",
    "def c(a):\n",
    " return a + 2\n",
    "b()\n",
    "b()\n",
    "b()\n",
    "a"
   ]
  },
  {
   "cell_type": "code",
   "execution_count": null,
   "id": "d134f57f",
   "metadata": {},
   "outputs": [],
   "source": [
    "Explanation:\n",
    "\n",
    "b()  # For the first time a's value will be 0 so in c(a), it will return 0+2=2 then global a's value will be 2\n",
    "b()  # For the second time a's value will be 2 so in c(a), it will return 2+2=4 then global a's value will be 4\n",
    "b()  # For the third time a's value will be 4 so in c(a), it will return 4+2=6 then global a's value will be 6\n",
    "a=6  # Here global namespace a is being referred, so value is 6.\n",
    "# Thus, everytime b() is getting executed, global a is getting changed,so a's value will be 6."
   ]
  },
  {
   "cell_type": "markdown",
   "id": "4e1b89f3",
   "metadata": {},
   "source": [
    "## Question 2"
   ]
  },
  {
   "cell_type": "markdown",
   "id": "33837fd9",
   "metadata": {},
   "source": [
    "### Function fileLength(), given to you, takes the name of a file as input and returns the length of the file:"
   ]
  },
  {
   "cell_type": "code",
   "execution_count": 9,
   "id": "e3635194",
   "metadata": {},
   "outputs": [
    {
     "name": "stdout",
     "output_type": "stream",
     "text": [
      "123\n",
      "File Filelengt.txt not found.\n"
     ]
    }
   ],
   "source": [
    "def fileLength(fileName):\n",
    "    try:                                           #try block\n",
    "        infile=open(fileName)\n",
    "        data=infile.read()\n",
    "        ln=len(data)\n",
    "        infile.close()\n",
    "        print(ln)\n",
    "    except IOError:                                  #input output stream/operation error: so if a file won't there,\n",
    "        print('File ' + fileName + ' not found.')     #exception will handle the error and print the friendly message\n",
    "                                                   \n",
    "        \n",
    "fileLength('Filelength.txt')    #Executing function with correct file name\n",
    "fileLength('Filelengt.txt')     #Executing function with wrong file name"
   ]
  },
  {
   "cell_type": "markdown",
   "id": "b7bad9b3",
   "metadata": {},
   "source": [
    "## Question 3"
   ]
  },
  {
   "cell_type": "markdown",
   "id": "6103070b",
   "metadata": {},
   "source": [
    "### Now write a class named Kangaroo as a subclass of Marsupial that inherits all the attributes of Marsupial and also: a. extends the Marsupial __init__ constructor to take, as input, the coordinates x and y of the Kangaroo object, b. supports method jump that takes number values dx and dy as input and moves the kangaroo by dx units along the x-axis and by dy units along the yaxis, and c. overloads the __str__ operator so it behaves as shown below."
   ]
  },
  {
   "cell_type": "code",
   "execution_count": 62,
   "id": "ecb78514",
   "metadata": {},
   "outputs": [
    {
     "name": "stdout",
     "output_type": "stream",
     "text": [
      "I am a Kangaroo located at co-ordinates (0,0)\n",
      "['doll', 'firetruck', 'kitten']\n",
      "I am a Kangaroo located at co-ordinates (3,0)\n"
     ]
    }
   ],
   "source": [
    "class Marsupial:\n",
    "    def __init__(self):\n",
    "        self.myLst = []\n",
    "    def put_in_pouch(self,item):       #super class method which will appent an item, whenever it get executed.\n",
    "        self.myLst.append(item)\n",
    "    def pouch_contents(self):          # It will return the myLst \n",
    "        return self.myLst\n",
    "\n",
    "class Kangaroo(Marsupial):\n",
    "    def __init__(self,x,y):        #extended the Marsupial __init__ constructor.\n",
    "        Marsupial.__init__(self)\n",
    "        self.x = x\n",
    "        self.y = y\n",
    "    def jump(self,dx,dy):          # move the points according to x and y axis\n",
    "        self.x += dx\n",
    "        self.y += dy\n",
    "    def __str__(self):            \n",
    "        return 'I am a Kangaroo located at co-ordinates ({},{})'.format(self.x,self.y)\n",
    "    \n",
    "    \n",
    "m = Marsupial()\n",
    "m.put_in_pouch('doll')\n",
    "m.put_in_pouch('firetruck')\n",
    "m.put_in_pouch('kitten')\n",
    "m.pouch_contents()\n",
    "\n",
    "k = Kangaroo(0,0)\n",
    "print(k)\n",
    "\n",
    "k.put_in_pouch('doll')\n",
    "k.put_in_pouch('firetruck')\n",
    "k.put_in_pouch('kitten')\n",
    "km=k.pouch_contents()\n",
    "print(km)\n",
    "\n",
    "k.jump(1,0)\n",
    "k.jump(1,0)\n",
    "k.jump(1,0)\n",
    "\n",
    "print(k)"
   ]
  },
  {
   "cell_type": "markdown",
   "id": "c1d7bf32",
   "metadata": {},
   "source": [
    "## Question 4"
   ]
  },
  {
   "cell_type": "markdown",
   "id": "a0e25d2d",
   "metadata": {},
   "source": [
    "### Write function collatz() that takes a positive integer x as input and prints the Collatz sequence starting at x"
   ]
  },
  {
   "cell_type": "code",
   "execution_count": 98,
   "id": "39b1f14d",
   "metadata": {},
   "outputs": [
    {
     "name": "stdout",
     "output_type": "stream",
     "text": [
      "collatz(1)\n",
      "1\n",
      "\n",
      "collatz(10)\n",
      "10\n",
      "5\n",
      "16\n",
      "8\n",
      "4\n",
      "2\n",
      "1\n"
     ]
    }
   ],
   "source": [
    "def collatz(x):\n",
    "    if x == 1:               #if x == 1 it will stop and return the list- making base\n",
    "        return [x]\n",
    "    elif x%2==0:             #checking wether number is even or not\n",
    "        return [x] + collatz(int(x/2))\n",
    "    else:                    #for odd\n",
    "        return [x] + collatz(int(x*3+1))\n",
    "\n",
    "a=collatz(1)\n",
    "b=collatz(10)\n",
    "print(\"collatz(1)\")\n",
    "print(*a,sep = \"\\n\")\n",
    "print(\"\\ncollatz(10)\")\n",
    "print(*b, sep = \"\\n\")"
   ]
  },
  {
   "cell_type": "markdown",
   "id": "a55647c9",
   "metadata": {},
   "source": [
    "## Question 5"
   ]
  },
  {
   "cell_type": "markdown",
   "id": "87d8aa89",
   "metadata": {},
   "source": [
    "### Write a recursive method binary() that takes a non-negative integer n and prints the binary representation of integer n."
   ]
  },
  {
   "cell_type": "code",
   "execution_count": 21,
   "id": "e16137d4",
   "metadata": {},
   "outputs": [
    {
     "name": "stdout",
     "output_type": "stream",
     "text": [
      "Enter your Number: 9\n",
      "1001"
     ]
    }
   ],
   "source": [
    "# Python program to convert decimal number into binary number using recursive function\n",
    " \n",
    "def binary(n):\n",
    "    if n == 0:\n",
    "        return 0\n",
    "        #print(\"Please enter positive n\")\n",
    "    else:\n",
    "        binary(n//2)\n",
    "    print(n % 2,end = '')\n",
    "\n",
    "Number = int(input(\"Enter your Number: \"))\n",
    "binary(Number)"
   ]
  },
  {
   "cell_type": "markdown",
   "id": "43197cd1",
   "metadata": {},
   "source": [
    "## Question 6"
   ]
  },
  {
   "cell_type": "code",
   "execution_count": 88,
   "id": "bfa1cf62",
   "metadata": {},
   "outputs": [],
   "source": [
    "from html.parser import HTMLParser\n",
    "\n",
    "class HeadingParser(HTMLParser):\n",
    "    Headers = [\"h1\", \"h2\"]\n",
    "    current = -1\n",
    "\n",
    "    def handle_starttag(self, tag, attrs):       # Start tag handler\n",
    "        if tag in HeadingParser.Headers:         # checking for h1,h2 tags.\n",
    "            HeadingParser.current = HeadingParser.Headers.index(tag)\n",
    "    \n",
    "    def handle_endtag(self, tag):                # End tag handler\n",
    "        if tag == HeadingParser.Headers[HeadingParser.current]:           #checking for h1,h2 tags.\n",
    "            HeadingParser.current = -1\n",
    "            \n",
    "    def handle_data(self, data):\n",
    "        if HeadingParser.current >= 0:\n",
    "            print(\" \" * HeadingParser.current + data)"
   ]
  },
  {
   "cell_type": "code",
   "execution_count": 89,
   "id": "1f9801e2",
   "metadata": {},
   "outputs": [
    {
     "name": "stdout",
     "output_type": "stream",
     "text": [
      "W3C Mission\n",
      " Principles\n"
     ]
    }
   ],
   "source": [
    "infile = open(\"w3c.html\",\"r\")\n",
    "content = fileOpen.read()\n",
    "infile.close()\n",
    "hp = HeadingParser()\n",
    "hp.feed(fileContents)"
   ]
  },
  {
   "cell_type": "markdown",
   "id": "cdbd922b",
   "metadata": {},
   "source": [
    "## Question 7"
   ]
  },
  {
   "cell_type": "code",
   "execution_count": 51,
   "id": "27c04925",
   "metadata": {},
   "outputs": [],
   "source": [
    "from urllib.request import urlopen\n",
    "from urllib.parse import urljoin\n",
    "from html.parser import HTMLParser\n",
    "\n",
    "class Collector(HTMLParser):\n",
    "    #collects hyperlink URLs into a list\n",
    "\n",
    "    def __init__(self, url):\n",
    "        #initializes parser, the url, and a list\n",
    "        HTMLParser.__init__(self)\n",
    "        self.url = url\n",
    "        self.links = []\n",
    "\n",
    "    \n",
    "    def handle_starttag(self, tag, attrs):\n",
    "        #collects hyperlink URLs in their absolute format\n",
    "        if tag == 'a':                 #checking for anchor tag\n",
    "            for attr in attrs:          \n",
    "                if attr[0] == 'href': \n",
    "                    # construct absolute URL\n",
    "                    absolute = urljoin(self.url, attr[1])\n",
    "                    if absolute[:4] == 'http': # collect HTTP URLs\n",
    "                        self.links.append(absolute)   #appending all the links in a list\n",
    "                        \n",
    "    #Recursive webdir function according depth and indent\n",
    "    \n",
    "    def webdir(self,url,depth,indent):   \n",
    "        print(indent*\" \" + url)\n",
    "        if depth == 0:\n",
    "            return \n",
    "        for i in self.links: \n",
    "            webdir(i, depth-1, indent+1)\n"
   ]
  },
  {
   "cell_type": "code",
   "execution_count": 53,
   "id": "56ac4c9b",
   "metadata": {
    "scrolled": true
   },
   "outputs": [
    {
     "name": "stdout",
     "output_type": "stream",
     "text": [
      "http://reed.cs.depaul.edu/lperkovic/one.html\n",
      " http://reed.cs.depaul.edu/lperkovic/two.html\n",
      " http://reed.cs.depaul.edu/lperkovic/three.html\n"
     ]
    }
   ],
   "source": [
    "url = 'http://reed.cs.depaul.edu/lperkovic/one.html'\n",
    "resource = urlopen(url)\n",
    "content = resource.read().decode()\n",
    "collector = Collector(url)\n",
    "collector.feed(content)\n",
    "\n",
    "#Calling Webdir Function here\n",
    "collector.webdir(url,2,0)   "
   ]
  },
  {
   "cell_type": "markdown",
   "id": "53b5c37f",
   "metadata": {},
   "source": []
  },
  {
   "cell_type": "markdown",
   "id": "f33fb209",
   "metadata": {},
   "source": [
    "### Connecting to DB, Creating Table and Entering values into it."
   ]
  },
  {
   "cell_type": "code",
   "execution_count": null,
   "id": "a72572f3",
   "metadata": {},
   "outputs": [],
   "source": [
    "import sqlite3\n",
    "con = sqlite3.connect('ipydb.db')\n",
    "cur = con.cursor()\n",
    "cur.execute(\"CREATE TABLE cityWeather (City text, Country text, Season text,Temperature float,Rainfall float)\")"
   ]
  },
  {
   "cell_type": "code",
   "execution_count": 40,
   "id": "ff8109ca",
   "metadata": {},
   "outputs": [
    {
     "data": {
      "text/plain": [
       "<sqlite3.Cursor at 0x1d918fc6b20>"
      ]
     },
     "execution_count": 40,
     "metadata": {},
     "output_type": "execute_result"
    }
   ],
   "source": [
    "cur.execute(\"INSERT INTO cityWeather VALUES ('Mumbai', 'India', 'Winter',24.8,5.9)\")"
   ]
  },
  {
   "cell_type": "code",
   "execution_count": 27,
   "id": "2a748746",
   "metadata": {},
   "outputs": [
    {
     "data": {
      "text/plain": [
       "<sqlite3.Cursor at 0x1d918fc6b20>"
      ]
     },
     "execution_count": 27,
     "metadata": {},
     "output_type": "execute_result"
    }
   ],
   "source": [
    "cur.execute(\"INSERT INTO cityWeather VALUES ('Mumbai', 'India', 'Spring',28.4,16.2)\")\n",
    "cur.execute(\"INSERT INTO cityWeather VALUES ('Mumbai', 'India', 'Summer',27.9,1549.4 )\")\n",
    "cur.execute(\"INSERT INTO cityWeather VALUES ('Mumbai', 'India', 'Fall',27.6,346.0)\")\n",
    "cur.execute(\"INSERT INTO cityWeather VALUES ('London', 'United Kingdom', 'Winter',4.2,207.7 )\")\n",
    "cur.execute(\"INSERT INTO cityWeather VALUES ('London', 'United Kingdom', 'Spring',8.3,169.6)\")\n",
    "cur.execute(\"INSERT INTO cityWeather VALUES ('London', 'United Kingdom', 'Summer',15.7,157.0)\")\n",
    "cur.execute(\"INSERT INTO cityWeather VALUES ('London', 'United Kingdom', 'Fall',10.4,218.5)\")\n",
    "cur.execute(\"INSERT INTO cityWeather VALUES ('Cairo', 'Egypt', 'Winter',13.6,16.5)\")\n",
    "cur.execute(\"INSERT INTO cityWeather VALUES ('Cairo', 'Egypt', 'Spring',20.7,6.5)\")\n",
    "cur.execute(\"INSERT INTO cityWeather VALUES ('Cairo', 'Egypt', 'Summer',27.7,0.1)\")\n",
    "cur.execute(\"INSERT INTO cityWeather VALUES ('Cairo', 'Egypt', 'Fall',22.2,4.5)\")"
   ]
  },
  {
   "cell_type": "code",
   "execution_count": 41,
   "id": "b3fae16d",
   "metadata": {
    "scrolled": true
   },
   "outputs": [
    {
     "data": {
      "text/plain": [
       "[('Mumbai', 'India', 'Spring', 28.4, 16.2),\n",
       " ('Mumbai', 'India', 'Summer', 27.9, 1549.4),\n",
       " ('Mumbai', 'India', 'Fall', 27.6, 346.0),\n",
       " ('London', 'United Kingdom', 'Winter', 4.2, 207.7),\n",
       " ('London', 'United Kingdom', 'Spring', 8.3, 169.6),\n",
       " ('London', 'United Kingdom', 'Summer', 15.7, 157.0),\n",
       " ('London', 'United Kingdom', 'Fall', 10.4, 218.5),\n",
       " ('Cairo', 'Egypt', 'Winter', 13.6, 16.5),\n",
       " ('Cairo', 'Egypt', 'Spring', 20.7, 6.5),\n",
       " ('Cairo', 'Egypt', 'Summer', 27.7, 0.1),\n",
       " ('Cairo', 'Egypt', 'Fall', 22.2, 4.5),\n",
       " ('Mumbai', 'India', 'Winter', 24.8, 5.9)]"
      ]
     },
     "execution_count": 41,
     "metadata": {},
     "output_type": "execute_result"
    }
   ],
   "source": [
    "cur.execute('SELECT * FROM cityWeather')\n",
    "cur.fetchall()"
   ]
  },
  {
   "cell_type": "markdown",
   "id": "aae4936e",
   "metadata": {},
   "source": [
    "## Question 8"
   ]
  },
  {
   "cell_type": "markdown",
   "id": "1e582362",
   "metadata": {},
   "source": [
    "### Write SQL queries on the below database table that return: "
   ]
  },
  {
   "cell_type": "markdown",
   "id": "f85742eb",
   "metadata": {},
   "source": [
    "#### a) All the temperature data."
   ]
  },
  {
   "cell_type": "code",
   "execution_count": 42,
   "id": "c2405039",
   "metadata": {
    "scrolled": true
   },
   "outputs": [
    {
     "name": "stdout",
     "output_type": "stream",
     "text": [
      "(28.4,)\n",
      "(27.9,)\n",
      "(27.6,)\n",
      "(4.2,)\n",
      "(8.3,)\n",
      "(15.7,)\n",
      "(10.4,)\n",
      "(13.6,)\n",
      "(20.7,)\n",
      "(27.7,)\n",
      "(22.2,)\n",
      "(24.8,)\n"
     ]
    }
   ],
   "source": [
    "cur.execute('SELECT temperature FROM cityWeather')\n",
    "A=cur.fetchall()\n",
    "for item in A:\n",
    "    print(item)"
   ]
  },
  {
   "cell_type": "markdown",
   "id": "2794c417",
   "metadata": {},
   "source": [
    "#### b) All the cities, but without repetition."
   ]
  },
  {
   "cell_type": "code",
   "execution_count": 43,
   "id": "4f4d7f44",
   "metadata": {
    "scrolled": true
   },
   "outputs": [
    {
     "name": "stdout",
     "output_type": "stream",
     "text": [
      "('Mumbai',)\n",
      "('London',)\n",
      "('Cairo',)\n"
     ]
    }
   ],
   "source": [
    "cur.execute('SELECT DISTINCT City FROM cityWeather')\n",
    "B=cur.fetchall()\n",
    "for item in B:\n",
    "    print(item)"
   ]
  },
  {
   "cell_type": "markdown",
   "id": "ab273bb7",
   "metadata": {},
   "source": [
    "#### c) All the records for India."
   ]
  },
  {
   "cell_type": "code",
   "execution_count": 44,
   "id": "f7c391f5",
   "metadata": {
    "scrolled": false
   },
   "outputs": [
    {
     "name": "stdout",
     "output_type": "stream",
     "text": [
      "('Mumbai', 'India', 'Spring', 28.4, 16.2)\n",
      "('Mumbai', 'India', 'Summer', 27.9, 1549.4)\n",
      "('Mumbai', 'India', 'Fall', 27.6, 346.0)\n",
      "('Mumbai', 'India', 'Winter', 24.8, 5.9)\n"
     ]
    }
   ],
   "source": [
    "cur.execute(\"SELECT * FROM cityWeather WHERE Country='India'\")\n",
    "C=cur.fetchall()\n",
    "for item in C:\n",
    "    print(item)"
   ]
  },
  {
   "cell_type": "markdown",
   "id": "63ecaf99",
   "metadata": {},
   "source": [
    "#### d) All the Fall records."
   ]
  },
  {
   "cell_type": "code",
   "execution_count": 45,
   "id": "24a51a75",
   "metadata": {
    "scrolled": true
   },
   "outputs": [
    {
     "name": "stdout",
     "output_type": "stream",
     "text": [
      "('Mumbai', 'India', 'Fall', 27.6, 346.0)\n",
      "('London', 'United Kingdom', 'Fall', 10.4, 218.5)\n",
      "('Cairo', 'Egypt', 'Fall', 22.2, 4.5)\n"
     ]
    }
   ],
   "source": [
    "cur.execute(\"SELECT * FROM cityWeather WHERE Season='Fall'\")\n",
    "D=cur.fetchall()\n",
    "for item in D:\n",
    "    print(item)"
   ]
  },
  {
   "cell_type": "markdown",
   "id": "c5f26a58",
   "metadata": {},
   "source": [
    "#### e) The city, country, and season for which the average rainfall is between 200 and 400 millimeters."
   ]
  },
  {
   "cell_type": "code",
   "execution_count": 46,
   "id": "5b91e8ba",
   "metadata": {
    "scrolled": true
   },
   "outputs": [
    {
     "name": "stdout",
     "output_type": "stream",
     "text": [
      "('Mumbai', 'India', 'Fall')\n",
      "('London', 'United Kingdom', 'Winter')\n",
      "('London', 'United Kingdom', 'Fall')\n"
     ]
    }
   ],
   "source": [
    "cur.execute(\"SELECT City,country,Season FROM cityWeather WHERE Rainfall BETWEEN 200 AND 400\")\n",
    "E=cur.fetchall()\n",
    "for item in E:\n",
    "    print(item)"
   ]
  },
  {
   "cell_type": "markdown",
   "id": "bfe57acb",
   "metadata": {},
   "source": [
    "#### f) The city and country for which the average Fall temperature is above 20 degrees, in increasing temperature order."
   ]
  },
  {
   "cell_type": "code",
   "execution_count": 47,
   "id": "ffae0da2",
   "metadata": {},
   "outputs": [
    {
     "name": "stdout",
     "output_type": "stream",
     "text": [
      "('Cairo', 'Egypt')\n",
      "('Mumbai', 'India')\n"
     ]
    }
   ],
   "source": [
    "cur.execute(\"SELECT City,country FROM cityWeather WHERE Season='Fall' AND temperature > 20 ORDER BY temperature ASC\")\n",
    "F=cur.fetchall()\n",
    "for item in F:\n",
    "    print(item)"
   ]
  },
  {
   "cell_type": "markdown",
   "id": "e92291dc",
   "metadata": {},
   "source": [
    "#### g) The total annual rainfall for Cairo"
   ]
  },
  {
   "cell_type": "code",
   "execution_count": 48,
   "id": "030b1860",
   "metadata": {},
   "outputs": [
    {
     "name": "stdout",
     "output_type": "stream",
     "text": [
      "(27.6,)\n"
     ]
    }
   ],
   "source": [
    "cur.execute(\"SELECT SUM(Rainfall) FROM cityWeather WHERE City='Cairo'\")\n",
    "G=cur.fetchall()\n",
    "for item in G:\n",
    "    print(item)"
   ]
  },
  {
   "cell_type": "markdown",
   "id": "4dd65a25",
   "metadata": {},
   "source": [
    "#### h) The total rainfall for each season."
   ]
  },
  {
   "cell_type": "code",
   "execution_count": 49,
   "id": "88df2af8",
   "metadata": {},
   "outputs": [
    {
     "name": "stdout",
     "output_type": "stream",
     "text": [
      "(569.0,)\n",
      "(192.29999999999998,)\n",
      "(1706.5,)\n",
      "(230.1,)\n"
     ]
    }
   ],
   "source": [
    "cur.execute(\"SELECT SUM(Rainfall) FROM cityWeather GROUP BY Season\")\n",
    "H=cur.fetchall()\n",
    "for item in H:\n",
    "    print(item)"
   ]
  },
  {
   "cell_type": "markdown",
   "id": "30c14fd6",
   "metadata": {},
   "source": [
    "## Question 9"
   ]
  },
  {
   "cell_type": "markdown",
   "id": "89c03624",
   "metadata": {},
   "source": [
    "### Suppose list words is defined as follows:  words = ['The', 'quick', 'brown', 'fox', 'jumps', 'over', 'the', 'lazy', 'dog'] Write list comprehension expressions that use list words and generate the following lists:"
   ]
  },
  {
   "cell_type": "code",
   "execution_count": 38,
   "id": "1ebbd15f",
   "metadata": {},
   "outputs": [],
   "source": [
    "words = ['The', 'quick', 'brown', 'fox', 'jumps', 'over','the', 'lazy', 'dog']"
   ]
  },
  {
   "cell_type": "markdown",
   "id": "030cfd39",
   "metadata": {},
   "source": [
    "#### A"
   ]
  },
  {
   "cell_type": "code",
   "execution_count": 61,
   "id": "728963f0",
   "metadata": {},
   "outputs": [
    {
     "name": "stdout",
     "output_type": "stream",
     "text": [
      "['THE', 'QUICK', 'BROWN', 'FOX', 'JUMPS', 'OVER', 'THE', 'LAZY', 'DOG']\n"
     ]
    }
   ],
   "source": [
    "A = [elements.upper() for elements in words]\n",
    "print (A)"
   ]
  },
  {
   "cell_type": "markdown",
   "id": "0ac0c78e",
   "metadata": {},
   "source": [
    "#### B"
   ]
  },
  {
   "cell_type": "code",
   "execution_count": 62,
   "id": "60352bd1",
   "metadata": {},
   "outputs": [
    {
     "name": "stdout",
     "output_type": "stream",
     "text": [
      "['the', 'quick', 'brown', 'fox', 'jumps', 'over', 'the', 'lazy', 'dog']\n"
     ]
    }
   ],
   "source": [
    "B = [elements.lower() for elements in words]\n",
    "print(B)"
   ]
  },
  {
   "cell_type": "markdown",
   "id": "50b0ee33",
   "metadata": {},
   "source": [
    "#### C"
   ]
  },
  {
   "cell_type": "code",
   "execution_count": 63,
   "id": "270ed0bf",
   "metadata": {},
   "outputs": [
    {
     "name": "stdout",
     "output_type": "stream",
     "text": [
      "[3, 5, 5, 3, 5, 4, 3, 4, 3]\n"
     ]
    }
   ],
   "source": [
    "C = [len(elements) for elements in words]\n",
    "print(C)"
   ]
  },
  {
   "cell_type": "markdown",
   "id": "8c313a30",
   "metadata": {},
   "source": [
    "#### D"
   ]
  },
  {
   "cell_type": "code",
   "execution_count": 94,
   "id": "7240f497",
   "metadata": {},
   "outputs": [
    {
     "name": "stdout",
     "output_type": "stream",
     "text": [
      "[['THE', 'the', 3], ['QUICK', 'quick', 5], ['BROWN', 'brown', 5], ['FOX', 'fox', 3], ['JUMPS', 'jumps', 5], ['OVER', 'over', 4], ['THE', 'the', 3], ['LAZY', 'lazy', 4], ['DOG', 'dog', 3]]\n"
     ]
    }
   ],
   "source": [
    "D = [[elements.upper(),elements.lower(),len(elements)] for elements in words]\n",
    "print(D)"
   ]
  },
  {
   "cell_type": "markdown",
   "id": "775c74ac",
   "metadata": {},
   "source": [
    "#### E"
   ]
  },
  {
   "cell_type": "code",
   "execution_count": 39,
   "id": "33b68992",
   "metadata": {},
   "outputs": [
    {
     "name": "stdout",
     "output_type": "stream",
     "text": [
      "['quick', 'brown', 'jumps', 'over', 'lazy']\n"
     ]
    }
   ],
   "source": [
    "E = [elements for elements in words if len(elements)>=4]\n",
    "print(E)"
   ]
  }
 ],
 "metadata": {
  "kernelspec": {
   "display_name": "Python 3",
   "language": "python",
   "name": "python3"
  },
  "language_info": {
   "codemirror_mode": {
    "name": "ipython",
    "version": 3
   },
   "file_extension": ".py",
   "mimetype": "text/x-python",
   "name": "python",
   "nbconvert_exporter": "python",
   "pygments_lexer": "ipython3",
   "version": "3.8.8"
  }
 },
 "nbformat": 4,
 "nbformat_minor": 5
}
